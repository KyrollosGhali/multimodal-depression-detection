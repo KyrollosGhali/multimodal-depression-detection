{
 "cells": [
  {
   "cell_type": "markdown",
   "id": "050990ef",
   "metadata": {},
   "source": [
    "# Depression Detection from Text using NLP and Deep Learning\n",
    "\n",
    "## Project Overview\n",
    "\n",
    "This notebook demonstrates a comprehensive text-based depression detection system using Natural Language Processing (NLP) and deep learning techniques. The project analyzes textual content to classify mental health states into normal and depression categories.\n",
    "\n",
    "## Key Features\n",
    "\n",
    "- **Advanced Text Preprocessing**: Tokenization, stopword removal, and lemmatization\n",
    "- **Sentence Transformers**: State-of-the-art embeddings using 'all-mpnet-base-v2' model\n",
    "- **Feature Engineering**: Mean and max pooling of sentence embeddings\n",
    "- **Class Imbalance Handling**: SMOTE (Borderline) for data augmentation\n",
    "- **Deep Neural Network**: Regularized architecture with dropout and callbacks\n",
    "- **Comprehensive Evaluation**: Classification metrics, ROC-AUC analysis\n",
    "- **Real-time Inference**: Text classification pipeline for new sentences\n",
    "\n",
    "## Dataset\n",
    "The dataset is generated using chatGPT\n",
    "\n",
    "The dataset contains textual paragraphs labeled as:\n",
    "- **Normal**: Regular, non-depressive text content\n",
    "- **Depression**: Text indicating depressive symptoms or states\n",
    "\n",
    "## Methodology\n",
    "\n",
    "1. **Text Preprocessing**: Clean and normalize text data\n",
    "2. **Embedding Generation**: Transform text to dense vector representations\n",
    "3. **Feature Engineering**: Combine mean and max pooled embeddings\n",
    "4. **Data Balancing**: Apply SMOTE to handle class imbalance\n",
    "5. **Model Training**: Deep neural network with regularization\n",
    "6. **Evaluation**: Performance assessment and visualization\n",
    "7. **Inference**: Real-time classification of new text samples\n",
    "\n",
    "## Technical Stack\n",
    "\n",
    "- **NLP**: NLTK, Sentence Transformers\n",
    "- **Machine Learning**: TensorFlow/Keras, Scikit-learn\n",
    "- **Data Processing**: Pandas, NumPy\n",
    "- **Visualization**: Matplotlib, Seaborn\n",
    "- **Imbalanced Learning**: imbalanced-learn (SMOTE)"
   ]
  },
  {
   "cell_type": "markdown",
   "id": "5cdf0007",
   "metadata": {},
   "source": [
    "## 1. Import Required Libraries\n",
    "\n",
    "Import all necessary libraries for natural language processing, machine learning, and data visualization."
   ]
  },
  {
   "cell_type": "code",
   "execution_count": 3,
   "id": "00af69fc",
   "metadata": {},
   "outputs": [
    {
     "name": "stdout",
     "output_type": "stream",
     "text": [
      "Downloading NLTK data...\n",
      "NLTK data download completed.\n"
     ]
    }
   ],
   "source": [
    "# Data Processing and Analysis\n",
    "import pandas as pd\n",
    "import numpy as np\n",
    "import matplotlib.pyplot as plt\n",
    "from collections import Counter\n",
    "\n",
    "# Natural Language Processing\n",
    "import nltk\n",
    "from nltk import word_tokenize\n",
    "from nltk.corpus import stopwords\n",
    "from nltk.stem import WordNetLemmatizer\n",
    "from nltk.tokenize import sent_tokenize\n",
    "from sentence_transformers import SentenceTransformer\n",
    "\n",
    "# Machine Learning and Deep Learning\n",
    "from sklearn.model_selection import train_test_split\n",
    "from sklearn.metrics import classification_report, confusion_matrix, roc_curve, auc\n",
    "from tensorflow.keras.models import Sequential\n",
    "from tensorflow.keras.layers import Dense, Dropout\n",
    "from tensorflow.keras.regularizers import l2, l1\n",
    "from tensorflow.keras.callbacks import EarlyStopping, ModelCheckpoint, ReduceLROnPlateau\n",
    "\n",
    "import matplotlib.pyplot as plt\n",
    "\n",
    "# Download required NLTK data\n",
    "print(\"Downloading NLTK data...\")\n",
    "nltk.download('punkt', quiet=True)\n",
    "nltk.download('stopwords', quiet=True)\n",
    "nltk.download('wordnet', quiet=True)\n",
    "print(\"NLTK data download completed.\")"
   ]
  },
  {
   "cell_type": "markdown",
   "id": "3cc3c578",
   "metadata": {},
   "source": [
    "## 2. Data Loading and Initial Exploration\n",
    "\n",
    "Load the depression detection dataset and perform initial data exploration."
   ]
  },
  {
   "cell_type": "code",
   "execution_count": 4,
   "id": "0484e823",
   "metadata": {},
   "outputs": [
    {
     "name": "stdout",
     "output_type": "stream",
     "text": [
      "Dataset loaded successfully!\n",
      "Total samples: 10000\n",
      "Columns: ['paragraph', 'label']\n"
     ]
    }
   ],
   "source": [
    "# Load the depression detection dataset\n",
    "# Update this path to match your dataset location\n",
    "file_path = r\"C:\\Users\\vip\\GP-Trails\\Final NoteBooks\\depression_dataset.csv\" \n",
    "\n",
    "file = pd.read_csv(file_path)\n",
    "\n",
    "# Shuffle the dataset to ensure random distribution\n",
    "file = file.sample(frac=1, random_state=42).reset_index(drop=True)\n",
    "\n",
    "print(f\"Dataset loaded successfully!\")\n",
    "print(f\"Total samples: {len(file)}\")\n",
    "print(f\"Columns: {list(file.columns)}\")"
   ]
  },
  {
   "cell_type": "code",
   "execution_count": 5,
   "id": "99fac9ae",
   "metadata": {},
   "outputs": [
    {
     "data": {
      "text/html": [
       "<div>\n",
       "<style scoped>\n",
       "    .dataframe tbody tr th:only-of-type {\n",
       "        vertical-align: middle;\n",
       "    }\n",
       "\n",
       "    .dataframe tbody tr th {\n",
       "        vertical-align: top;\n",
       "    }\n",
       "\n",
       "    .dataframe thead th {\n",
       "        text-align: right;\n",
       "    }\n",
       "</style>\n",
       "<table border=\"1\" class=\"dataframe\">\n",
       "  <thead>\n",
       "    <tr style=\"text-align: right;\">\n",
       "      <th></th>\n",
       "      <th>paragraph</th>\n",
       "      <th>label</th>\n",
       "    </tr>\n",
       "  </thead>\n",
       "  <tbody>\n",
       "    <tr>\n",
       "      <th>0</th>\n",
       "      <td>Lately, I feel like everything is just too muc...</td>\n",
       "      <td>1</td>\n",
       "    </tr>\n",
       "    <tr>\n",
       "      <th>1</th>\n",
       "      <td>Every day feels like a struggle. I force mysel...</td>\n",
       "      <td>1</td>\n",
       "    </tr>\n",
       "    <tr>\n",
       "      <th>2</th>\n",
       "      <td>Today was a regular day at work. I woke up ear...</td>\n",
       "      <td>0</td>\n",
       "    </tr>\n",
       "    <tr>\n",
       "      <th>3</th>\n",
       "      <td>Lately, I feel like everything is just too muc...</td>\n",
       "      <td>1</td>\n",
       "    </tr>\n",
       "    <tr>\n",
       "      <th>4</th>\n",
       "      <td>Today was a regular day at work. I woke up ear...</td>\n",
       "      <td>0</td>\n",
       "    </tr>\n",
       "  </tbody>\n",
       "</table>\n",
       "</div>"
      ],
      "text/plain": [
       "                                           paragraph  label\n",
       "0  Lately, I feel like everything is just too muc...      1\n",
       "1  Every day feels like a struggle. I force mysel...      1\n",
       "2  Today was a regular day at work. I woke up ear...      0\n",
       "3  Lately, I feel like everything is just too muc...      1\n",
       "4  Today was a regular day at work. I woke up ear...      0"
      ]
     },
     "execution_count": 5,
     "metadata": {},
     "output_type": "execute_result"
    }
   ],
   "source": [
    "# Display first few rows of the dataset to understand structure\n",
    "file.head()"
   ]
  },
  {
   "cell_type": "code",
   "execution_count": 6,
   "id": "29dc44c8",
   "metadata": {},
   "outputs": [
    {
     "name": "stdout",
     "output_type": "stream",
     "text": [
      "Text samples: 10000\n",
      "Labels: 10000\n",
      "Unique labels: [0 1]\n"
     ]
    }
   ],
   "source": [
    "# Extract text and labels from the dataset\n",
    "text = file['paragraph'].values\n",
    "label = file['label'].values\n",
    "\n",
    "print(f\"Text samples: {len(text)}\")\n",
    "print(f\"Labels: {len(label)}\")\n",
    "print(f\"Unique labels: {np.unique(label)}\")"
   ]
  },
  {
   "cell_type": "markdown",
   "id": "650e7901",
   "metadata": {},
   "source": [
    "## 3. Text Preprocessing and Feature Extraction\n",
    "\n",
    "### 3.1 Initialize NLP Components\n",
    "\n",
    "Set up the sentence transformer model and NLP preprocessing tools."
   ]
  },
  {
   "cell_type": "code",
   "execution_count": 7,
   "id": "1584b966",
   "metadata": {},
   "outputs": [
    {
     "name": "stdout",
     "output_type": "stream",
     "text": [
      "Loading Sentence Transformer model...\n",
      "Model loaded successfully!\n"
     ]
    }
   ],
   "source": [
    "# Initialize Sentence Transformer model for text embeddings\n",
    "# Using 'all-mpnet-base-v2' - high performance model for semantic similarity\n",
    "print(\"Loading Sentence Transformer model...\")\n",
    "model_sent = SentenceTransformer('all-mpnet-base-v2')\n",
    "print(\"Model loaded successfully!\")"
   ]
  },
  {
   "cell_type": "code",
   "execution_count": 8,
   "id": "bea16e33",
   "metadata": {},
   "outputs": [
    {
     "name": "stdout",
     "output_type": "stream",
     "text": [
      "Stopwords loaded: 198 words\n",
      "Lemmatizer initialized\n"
     ]
    }
   ],
   "source": [
    "# Initialize NLP preprocessing tools\n",
    "stop_words = set(stopwords.words('english'))\n",
    "lemmatizer = WordNetLemmatizer()\n",
    "\n",
    "print(f\"Stopwords loaded: {len(stop_words)} words\")\n",
    "print(\"Lemmatizer initialized\")"
   ]
  },
  {
   "cell_type": "markdown",
   "id": "8b5dd166",
   "metadata": {},
   "source": [
    "### 3.2 Text Preprocessing Pipeline\n",
    "\n",
    "Clean and preprocess the text data by removing stopwords, lemmatizing, and filtering tokens."
   ]
  },
  {
   "cell_type": "code",
   "execution_count": 9,
   "id": "4c796398",
   "metadata": {},
   "outputs": [
    {
     "name": "stdout",
     "output_type": "stream",
     "text": [
      "Processed 1000 texts...\n",
      "Processed 2000 texts...\n",
      "Processed 3000 texts...\n",
      "Processed 4000 texts...\n",
      "Processed 5000 texts...\n",
      "Processed 6000 texts...\n",
      "Processed 7000 texts...\n",
      "Processed 8000 texts...\n",
      "Processed 9000 texts...\n",
      "Processed 10000 texts...\n",
      "Text preprocessing completed. Total texts: 10000\n"
     ]
    }
   ],
   "source": [
    "# Preprocess all text data: tokenize, lemmatize, and remove stopwords\n",
    "texts = []\n",
    "for i, text in enumerate(file['paragraph']):\n",
    "    # Tokenize text to lowercase words\n",
    "    tokens = word_tokenize(text.lower())\n",
    "    \n",
    "    # Filter tokens: keep only alphabetic words, remove stopwords, and lemmatize\n",
    "    filtered_tokens = [\n",
    "        lemmatizer.lemmatize(word) \n",
    "        for word in tokens \n",
    "        if word.isalpha() and word not in stop_words\n",
    "    ]\n",
    "    \n",
    "    # Join filtered tokens back into text\n",
    "    texts.append(' '.join(filtered_tokens))\n",
    "    \n",
    "    # Progress indicator for large datasets\n",
    "    if (i + 1) % 1000 == 0:\n",
    "        print(f\"Processed {i + 1} texts...\")\n",
    "\n",
    "print(f\"Text preprocessing completed. Total texts: {len(texts)}\")"
   ]
  },
  {
   "cell_type": "code",
   "execution_count": 10,
   "id": "ee8df484",
   "metadata": {},
   "outputs": [
    {
     "data": {
      "text/plain": [
       "['lately feel like everything much wake exhausted unmotivated even simplest task feel overwhelming often avoid friend family want talk care energy try smile fake thought often dark heavy night hardest filled overthinking regret ca remember last time felt genuinely happy sometimes wonder ever end day blur together trying survive',\n",
       " 'every day feel like struggle force bed see point go motion work disconnected stopped enjoying thing used love appetite gone lost weight people say seem distant right cry without reason constantly tired even sleeping hour avoid conversation isolate feel like carrying weight chest want break thought miss old',\n",
       " 'today regular day work woke early made breakfast got ready listened music commute office meeting managed complete big task lunch coworker laughed something silly work went gym hour felt really productive evening cooked pasta watched movie cat jumped couch curled beside peaceful end day feel grateful small thing',\n",
       " 'lately feel like everything much wake exhausted unmotivated even simplest task feel overwhelming often avoid friend family want talk care energy try smile fake thought often dark heavy night hardest filled overthinking regret ca remember last time felt genuinely happy sometimes wonder ever end day blur together trying survive',\n",
       " 'today regular day work woke early made breakfast got ready listened music commute office meeting managed complete big task lunch coworker laughed something silly work went gym hour felt really productive evening cooked pasta watched movie cat jumped couch curled beside peaceful end day feel grateful small thing']"
      ]
     },
     "execution_count": 10,
     "metadata": {},
     "output_type": "execute_result"
    }
   ],
   "source": [
    "texts[0:5]  # Display the first 5 preprocessed texts"
   ]
  },
  {
   "cell_type": "markdown",
   "id": "11736579",
   "metadata": {},
   "source": [
    "### 3.3 Feature Extraction using Sentence Embeddings\n",
    "\n",
    "Convert preprocessed text into dense vector representations using Sentence Transformers."
   ]
  },
  {
   "cell_type": "code",
   "execution_count": 11,
   "id": "4b2feba6",
   "metadata": {},
   "outputs": [
    {
     "name": "stdout",
     "output_type": "stream",
     "text": [
      "Generating sentence embeddings...\n",
      "Processed 500/10000 texts...\n",
      "Processed 1000/10000 texts...\n",
      "Processed 1500/10000 texts...\n",
      "Processed 2000/10000 texts...\n",
      "Processed 2500/10000 texts...\n",
      "Processed 3000/10000 texts...\n",
      "Processed 3500/10000 texts...\n",
      "Processed 4000/10000 texts...\n",
      "Processed 4500/10000 texts...\n",
      "Processed 5000/10000 texts...\n",
      "Processed 5500/10000 texts...\n",
      "Processed 6000/10000 texts...\n",
      "Processed 6500/10000 texts...\n",
      "Processed 7000/10000 texts...\n",
      "Processed 7500/10000 texts...\n",
      "Processed 8000/10000 texts...\n",
      "Processed 8500/10000 texts...\n",
      "Processed 9000/10000 texts...\n",
      "Processed 9500/10000 texts...\n",
      "Processed 10000/10000 texts...\n",
      "Feature extraction completed. Generated 10000 embeddings.\n"
     ]
    }
   ],
   "source": [
    "# Generate sentence embeddings with mean and max pooling\n",
    "print(\"Generating sentence embeddings...\")\n",
    "text_embeddings = []\n",
    "\n",
    "for i, text in enumerate(texts):\n",
    "    # Split text into sentences for better semantic understanding\n",
    "    sentences = sent_tokenize(text)\n",
    "    \n",
    "    # Generate embeddings for each sentence\n",
    "    embeddings = model_sent.encode(sentences)\n",
    "    \n",
    "    # Apply pooling strategies to combine sentence embeddings\n",
    "    embeddings_mean = np.mean(embeddings, axis=0)  # Average pooling\n",
    "    embeddings_max = np.max(embeddings, axis=0)    # Max pooling\n",
    "    \n",
    "    # Concatenate mean and max embeddings for richer representation\n",
    "    combined_embeddings = np.concatenate((embeddings_mean, embeddings_max))\n",
    "    text_embeddings.append(combined_embeddings)\n",
    "    \n",
    "    # Progress indicator\n",
    "    if (i + 1) % 500 == 0:\n",
    "        print(f\"Processed {i + 1}/{len(texts)} texts...\")\n",
    "\n",
    "print(f\"Feature extraction completed. Generated {len(text_embeddings)} embeddings.\")"
   ]
  },
  {
   "cell_type": "code",
   "execution_count": 12,
   "id": "54539215",
   "metadata": {},
   "outputs": [
    {
     "name": "stdout",
     "output_type": "stream",
     "text": [
      "Embeddings array shape: (10000, 1536)\n",
      "Data type: float32\n",
      "Memory usage: 58.59 MB\n"
     ]
    }
   ],
   "source": [
    "text_embeddings = np.array(text_embeddings)\n",
    "# Verify embedding array structure\n",
    "print(f\"Embeddings array shape: {text_embeddings.shape}\")\n",
    "print(f\"Data type: {text_embeddings.dtype}\")\n",
    "print(f\"Memory usage: {text_embeddings.nbytes / 1024 / 1024:.2f} MB\")"
   ]
  },
  {
   "cell_type": "code",
   "execution_count": 13,
   "id": "3189fdc3",
   "metadata": {},
   "outputs": [
    {
     "name": "stdout",
     "output_type": "stream",
     "text": [
      "Features shape: (10000, 1536)\n",
      "Labels shape: (10000,)\n",
      "Feature-label alignment check: True\n"
     ]
    }
   ],
   "source": [
    "# Assign features (X) and labels (y) for machine learning\n",
    "x = text_embeddings\n",
    "y = label\n",
    "\n",
    "print(f\"Features shape: {x.shape}\")\n",
    "print(f\"Labels shape: {y.shape}\")\n",
    "print(f\"Feature-label alignment check: {len(x) == len(y)}\")"
   ]
  },
  {
   "cell_type": "markdown",
   "id": "76a0460d",
   "metadata": {},
   "source": [
    "## 4. Data Analysis and Class Imbalance Handling\n",
    "\n",
    "### 4.1 Exploratory Data Analysis\n",
    "\n",
    "Analyze the distribution of classes in our dataset."
   ]
  },
  {
   "cell_type": "code",
   "execution_count": 14,
   "id": "9d7af5d3",
   "metadata": {},
   "outputs": [
    {
     "name": "stdout",
     "output_type": "stream",
     "text": [
      "Counter({1: 5000, 0: 5000})\n",
      "=== Dataset Class Distribution ===\n",
      "Class distribution: {1: 5000, 0: 5000}\n",
      "Class imbalance ratio: 1.00:1\n"
     ]
    },
    {
     "data": {
      "image/png": "[encoded data removed]",
      "text/plain": [
       "<Figure size 1000x600 with 1 Axes>"
      ]
     },
     "metadata": {},
     "output_type": "display_data"
    },
    {
     "name": "stdout",
     "output_type": "stream",
     "text": [
      "\n",
      "Total samples: 10000\n"
     ]
    }
   ],
   "source": [
    "print(Counter(y))\n",
    "\n",
    "# Analyze class distribution\n",
    "class_counts = Counter(y)\n",
    "print(\"=== Dataset Class Distribution ===\")\n",
    "print(f\"Class distribution: {dict(class_counts)}\")\n",
    "\n",
    "# Calculate class imbalance ratio\n",
    "classes = list(class_counts.keys())\n",
    "if len(classes) == 2:\n",
    "    ratio = max(class_counts.values()) / min(class_counts.values())\n",
    "    print(f\"Class imbalance ratio: {ratio:.2f}:1\")\n",
    "\n",
    "# Visualize class distribution\n",
    "plt.figure(figsize=(10, 6))\n",
    "labels = ['Normal (0)', 'Depression (1)']\n",
    "colors = ['lightblue', 'lightcoral']\n",
    "\n",
    "plt.bar(labels, [class_counts[0], class_counts[1]], \n",
    "        color=colors, alpha=0.8, edgecolor='black', linewidth=1.5)\n",
    "plt.xlabel('Mental Health State', fontsize=12)\n",
    "plt.ylabel('Number of Samples', fontsize=12)\n",
    "plt.title('Distribution of Mental Health Classes', fontsize=14, fontweight='bold')\n",
    "plt.grid(axis='y', alpha=0.3)\n",
    "\n",
    "# Add value labels on bars\n",
    "for i, v in enumerate([class_counts[0], class_counts[1]]):\n",
    "    plt.text(i, v + max(class_counts.values()) * 0.01, str(v), \n",
    "             ha='center', va='bottom', fontweight='bold')\n",
    "\n",
    "plt.tight_layout()\n",
    "plt.show()\n",
    "\n",
    "print(f\"\\nTotal samples: {sum(class_counts.values())}\")"
   ]
  },
  {
   "cell_type": "markdown",
   "id": "8f54afb8",
   "metadata": {},
   "source": [
    "## 5. Data Preparation for Machine Learning\n",
    "\n",
    "### 5.1 Train-Test Split and Data Shuffling\n",
    "\n",
    "Prepare the data for training by splitting and shuffling."
   ]
  },
  {
   "cell_type": "code",
   "execution_count": 15,
   "id": "e9b95058",
   "metadata": {},
   "outputs": [
    {
     "name": "stdout",
     "output_type": "stream",
     "text": [
      "=== Train-Test Split Results ===\n",
      "Training set: 8000 samples\n",
      "Testing set: 2000 samples\n",
      "Training class distribution: Counter({0: 4000, 1: 4000})\n",
      "Testing class distribution: Counter({0: 1000, 1: 1000})\n",
      "\n",
      "Feature shapes:\n",
      "X_train: (8000, 1536)\n",
      "X_test: (2000, 1536)\n"
     ]
    }
   ],
   "source": [
    "from sklearn.model_selection import train_test_split\n",
    "\n",
    "# Split data into training and testing sets (80-20 split)\n",
    "# Use stratification to maintain class balance in both sets\n",
    "X_train, X_test, y_train, y_test = train_test_split(\n",
    "    x, y, \n",
    "    test_size=0.2, \n",
    "    random_state=42, \n",
    "    stratify=y\n",
    ")\n",
    "\n",
    "print(\"=== Train-Test Split Results ===\")\n",
    "print(f\"Training set: {len(X_train)} samples\")\n",
    "print(f\"Testing set: {len(X_test)} samples\")\n",
    "print(f\"Training class distribution: {Counter(y_train)}\")\n",
    "print(f\"Testing class distribution: {Counter(y_test)}\")\n",
    "\n",
    "# Verify shapes\n",
    "print(f\"\\nFeature shapes:\")\n",
    "print(f\"X_train: {X_train.shape}\")\n",
    "print(f\"X_test: {X_test.shape}\")"
   ]
  },
  {
   "cell_type": "markdown",
   "id": "ca11e6d6",
   "metadata": {},
   "source": [
    "## 6. Deep Learning Model Implementation\n",
    "\n",
    "### 6.1 Text Preprocessing Function\n",
    "\n",
    "Define the preprocessing function for consistent text cleaning during inference."
   ]
  },
  {
   "cell_type": "code",
   "execution_count": 16,
   "id": "e7148099",
   "metadata": {},
   "outputs": [],
   "source": [
    "def clean_text(text):\n",
    "    tokens = word_tokenize(text.lower())\n",
    "    filtered_tokens = [lemmatizer.lemmatize(word) for word in tokens if word.isalpha() and word not in stop_words]\n",
    "    return ' '.join(filtered_tokens)"
   ]
  },
  {
   "cell_type": "code",
   "execution_count": 17,
   "id": "3b76e94a",
   "metadata": {},
   "outputs": [
    {
     "name": "stdout",
     "output_type": "stream",
     "text": [
      "Epoch 1/100\n",
      "250/250 [==============================] - 2s 4ms/step - loss: 9.0254 - accuracy: 0.9914 - val_loss: 0.2854 - val_accuracy: 1.0000 - lr: 0.0010\n",
      "Epoch 2/100\n",
      "250/250 [==============================] - 1s 4ms/step - loss: 0.1641 - accuracy: 0.9999 - val_loss: 0.1115 - val_accuracy: 1.0000 - lr: 0.0010\n",
      "Epoch 3/100\n",
      "250/250 [==============================] - 1s 3ms/step - loss: 0.1166 - accuracy: 1.0000 - val_loss: 0.0933 - val_accuracy: 1.0000 - lr: 0.0010\n",
      "Epoch 4/100\n",
      "250/250 [==============================] - 1s 3ms/step - loss: 0.1003 - accuracy: 1.0000 - val_loss: 0.0850 - val_accuracy: 1.0000 - lr: 0.0010\n",
      "Epoch 5/100\n",
      "250/250 [==============================] - 1s 3ms/step - loss: 0.0906 - accuracy: 1.0000 - val_loss: 0.0749 - val_accuracy: 1.0000 - lr: 0.0010\n",
      "Epoch 6/100\n",
      "250/250 [==============================] - 1s 3ms/step - loss: 0.0821 - accuracy: 1.0000 - val_loss: 0.0688 - val_accuracy: 1.0000 - lr: 0.0010\n",
      "Epoch 7/100\n",
      "250/250 [==============================] - 1s 3ms/step - loss: 0.0763 - accuracy: 1.0000 - val_loss: 0.0636 - val_accuracy: 1.0000 - lr: 0.0010\n",
      "Epoch 8/100\n",
      "250/250 [==============================] - 1s 3ms/step - loss: 0.0718 - accuracy: 1.0000 - val_loss: 0.0601 - val_accuracy: 1.0000 - lr: 0.0010\n",
      "Epoch 9/100\n",
      "250/250 [==============================] - 1s 3ms/step - loss: 0.0681 - accuracy: 1.0000 - val_loss: 0.0569 - val_accuracy: 1.0000 - lr: 0.0010\n",
      "Epoch 10/100\n",
      "250/250 [==============================] - 1s 3ms/step - loss: 0.0644 - accuracy: 1.0000 - val_loss: 0.0534 - val_accuracy: 1.0000 - lr: 0.0010\n",
      "Epoch 11/100\n",
      "250/250 [==============================] - 1s 3ms/step - loss: 0.0614 - accuracy: 1.0000 - val_loss: 0.0524 - val_accuracy: 1.0000 - lr: 0.0010\n",
      "Epoch 12/100\n",
      "250/250 [==============================] - 1s 3ms/step - loss: 0.0589 - accuracy: 1.0000 - val_loss: 0.0514 - val_accuracy: 1.0000 - lr: 0.0010\n",
      "Epoch 13/100\n",
      "250/250 [==============================] - 1s 3ms/step - loss: 0.0570 - accuracy: 1.0000 - val_loss: 0.0480 - val_accuracy: 1.0000 - lr: 0.0010\n",
      "Epoch 14/100\n",
      "250/250 [==============================] - 1s 3ms/step - loss: 0.0552 - accuracy: 1.0000 - val_loss: 0.0460 - val_accuracy: 1.0000 - lr: 0.0010\n",
      "Epoch 15/100\n",
      "250/250 [==============================] - 1s 4ms/step - loss: 0.0521 - accuracy: 1.0000 - val_loss: 0.0434 - val_accuracy: 1.0000 - lr: 0.0010\n",
      "Epoch 16/100\n",
      "250/250 [==============================] - 1s 3ms/step - loss: 0.0513 - accuracy: 0.9998 - val_loss: 0.0464 - val_accuracy: 1.0000 - lr: 0.0010\n",
      "Epoch 17/100\n",
      "250/250 [==============================] - 1s 3ms/step - loss: 0.0498 - accuracy: 1.0000 - val_loss: 0.0427 - val_accuracy: 1.0000 - lr: 0.0010\n",
      "Epoch 18/100\n",
      "250/250 [==============================] - 1s 3ms/step - loss: 0.0475 - accuracy: 1.0000 - val_loss: 0.0388 - val_accuracy: 1.0000 - lr: 0.0010\n",
      "Epoch 19/100\n",
      "250/250 [==============================] - 1s 3ms/step - loss: 0.0456 - accuracy: 1.0000 - val_loss: 0.0437 - val_accuracy: 1.0000 - lr: 0.0010\n",
      "Epoch 20/100\n",
      "250/250 [==============================] - 1s 3ms/step - loss: 0.0441 - accuracy: 1.0000 - val_loss: 0.0393 - val_accuracy: 1.0000 - lr: 0.0010\n",
      "Epoch 21/100\n",
      "250/250 [==============================] - 1s 3ms/step - loss: 0.0432 - accuracy: 1.0000 - val_loss: 0.0358 - val_accuracy: 1.0000 - lr: 0.0010\n",
      "Epoch 22/100\n",
      "250/250 [==============================] - 1s 3ms/step - loss: 0.0426 - accuracy: 1.0000 - val_loss: 0.0355 - val_accuracy: 1.0000 - lr: 0.0010\n",
      "Epoch 23/100\n",
      "250/250 [==============================] - 1s 3ms/step - loss: 0.0419 - accuracy: 1.0000 - val_loss: 0.0364 - val_accuracy: 1.0000 - lr: 0.0010\n",
      "Epoch 24/100\n",
      "250/250 [==============================] - 1s 3ms/step - loss: 0.0399 - accuracy: 1.0000 - val_loss: 0.0369 - val_accuracy: 1.0000 - lr: 0.0010\n",
      "Epoch 25/100\n",
      "250/250 [==============================] - 1s 3ms/step - loss: 0.0384 - accuracy: 1.0000 - val_loss: 0.0329 - val_accuracy: 1.0000 - lr: 0.0010\n",
      "Epoch 26/100\n",
      "250/250 [==============================] - 1s 3ms/step - loss: 0.0395 - accuracy: 0.9999 - val_loss: 0.0357 - val_accuracy: 1.0000 - lr: 0.0010\n",
      "Epoch 27/100\n",
      "250/250 [==============================] - 1s 3ms/step - loss: 0.0365 - accuracy: 1.0000 - val_loss: 0.0286 - val_accuracy: 1.0000 - lr: 0.0010\n",
      "Epoch 28/100\n",
      "250/250 [==============================] - 1s 3ms/step - loss: 0.0368 - accuracy: 1.0000 - val_loss: 0.0305 - val_accuracy: 1.0000 - lr: 0.0010\n",
      "Epoch 29/100\n",
      "250/250 [==============================] - 1s 3ms/step - loss: 0.0349 - accuracy: 0.9999 - val_loss: 0.0324 - val_accuracy: 1.0000 - lr: 0.0010\n",
      "Epoch 30/100\n",
      "250/250 [==============================] - 1s 3ms/step - loss: 0.0341 - accuracy: 1.0000 - val_loss: 0.0261 - val_accuracy: 1.0000 - lr: 0.0010\n",
      "Epoch 31/100\n",
      "250/250 [==============================] - 1s 3ms/step - loss: 0.0339 - accuracy: 0.9999 - val_loss: 0.0280 - val_accuracy: 1.0000 - lr: 0.0010\n",
      "Epoch 32/100\n",
      "250/250 [==============================] - 1s 3ms/step - loss: 0.0326 - accuracy: 1.0000 - val_loss: 0.0304 - val_accuracy: 1.0000 - lr: 0.0010\n",
      "Epoch 33/100\n",
      "250/250 [==============================] - 1s 3ms/step - loss: 0.0316 - accuracy: 1.0000 - val_loss: 0.0264 - val_accuracy: 1.0000 - lr: 0.0010\n",
      "Epoch 34/100\n",
      "250/250 [==============================] - 1s 3ms/step - loss: 0.0274 - accuracy: 1.0000 - val_loss: 0.0223 - val_accuracy: 1.0000 - lr: 2.0000e-04\n",
      "Epoch 35/100\n",
      "250/250 [==============================] - 1s 3ms/step - loss: 0.0269 - accuracy: 1.0000 - val_loss: 0.0236 - val_accuracy: 1.0000 - lr: 2.0000e-04\n",
      "Epoch 36/100\n",
      "250/250 [==============================] - 1s 3ms/step - loss: 0.0274 - accuracy: 1.0000 - val_loss: 0.0233 - val_accuracy: 1.0000 - lr: 2.0000e-04\n",
      "Epoch 37/100\n",
      "250/250 [==============================] - 1s 3ms/step - loss: 0.0265 - accuracy: 1.0000 - val_loss: 0.0222 - val_accuracy: 1.0000 - lr: 2.0000e-04\n",
      "Epoch 38/100\n",
      "250/250 [==============================] - 1s 3ms/step - loss: 0.0268 - accuracy: 1.0000 - val_loss: 0.0223 - val_accuracy: 1.0000 - lr: 2.0000e-04\n",
      "Epoch 39/100\n",
      "250/250 [==============================] - 1s 3ms/step - loss: 0.0263 - accuracy: 1.0000 - val_loss: 0.0225 - val_accuracy: 1.0000 - lr: 2.0000e-04\n",
      "Epoch 40/100\n",
      "250/250 [==============================] - 1s 3ms/step - loss: 0.0263 - accuracy: 1.0000 - val_loss: 0.0226 - val_accuracy: 1.0000 - lr: 2.0000e-04\n",
      "Epoch 41/100\n",
      "250/250 [==============================] - 1s 3ms/step - loss: 0.0256 - accuracy: 1.0000 - val_loss: 0.0219 - val_accuracy: 1.0000 - lr: 4.0000e-05\n",
      "Epoch 42/100\n",
      "250/250 [==============================] - 1s 3ms/step - loss: 0.0254 - accuracy: 1.0000 - val_loss: 0.0219 - val_accuracy: 1.0000 - lr: 4.0000e-05\n",
      "Epoch 43/100\n",
      "250/250 [==============================] - 1s 3ms/step - loss: 0.0252 - accuracy: 1.0000 - val_loss: 0.0217 - val_accuracy: 1.0000 - lr: 4.0000e-05\n",
      "Epoch 44/100\n",
      "250/250 [==============================] - 1s 3ms/step - loss: 0.0254 - accuracy: 1.0000 - val_loss: 0.0216 - val_accuracy: 1.0000 - lr: 4.0000e-05\n",
      "Epoch 45/100\n",
      "250/250 [==============================] - 1s 3ms/step - loss: 0.0255 - accuracy: 0.9999 - val_loss: 0.0215 - val_accuracy: 1.0000 - lr: 4.0000e-05\n",
      "Epoch 46/100\n",
      "250/250 [==============================] - 1s 3ms/step - loss: 0.0253 - accuracy: 1.0000 - val_loss: 0.0212 - val_accuracy: 1.0000 - lr: 4.0000e-05\n",
      "Epoch 47/100\n",
      "250/250 [==============================] - 1s 3ms/step - loss: 0.0250 - accuracy: 1.0000 - val_loss: 0.0213 - val_accuracy: 1.0000 - lr: 4.0000e-05\n",
      "Epoch 48/100\n",
      "250/250 [==============================] - 1s 3ms/step - loss: 0.0255 - accuracy: 1.0000 - val_loss: 0.0218 - val_accuracy: 1.0000 - lr: 4.0000e-05\n",
      "Epoch 49/100\n",
      "250/250 [==============================] - 1s 3ms/step - loss: 0.0251 - accuracy: 1.0000 - val_loss: 0.0218 - val_accuracy: 1.0000 - lr: 4.0000e-05\n",
      "Epoch 50/100\n",
      "250/250 [==============================] - 1s 3ms/step - loss: 0.0247 - accuracy: 1.0000 - val_loss: 0.0213 - val_accuracy: 1.0000 - lr: 8.0000e-06\n",
      "Epoch 51/100\n",
      "250/250 [==============================] - 1s 3ms/step - loss: 0.0249 - accuracy: 0.9999 - val_loss: 0.0212 - val_accuracy: 1.0000 - lr: 8.0000e-06\n",
      "Epoch 52/100\n",
      "250/250 [==============================] - 1s 3ms/step - loss: 0.0250 - accuracy: 1.0000 - val_loss: 0.0214 - val_accuracy: 1.0000 - lr: 8.0000e-06\n",
      "Epoch 53/100\n",
      "250/250 [==============================] - 1s 3ms/step - loss: 0.0250 - accuracy: 1.0000 - val_loss: 0.0214 - val_accuracy: 1.0000 - lr: 1.6000e-06\n",
      "Epoch 54/100\n",
      "250/250 [==============================] - 1s 3ms/step - loss: 0.0252 - accuracy: 1.0000 - val_loss: 0.0214 - val_accuracy: 1.0000 - lr: 1.6000e-06\n",
      "Epoch 55/100\n",
      "250/250 [==============================] - 1s 3ms/step - loss: 0.0248 - accuracy: 1.0000 - val_loss: 0.0213 - val_accuracy: 1.0000 - lr: 1.6000e-06\n",
      "Epoch 56/100\n",
      "250/250 [==============================] - 1s 3ms/step - loss: 0.0247 - accuracy: 1.0000 - val_loss: 0.0213 - val_accuracy: 1.0000 - lr: 3.2000e-07\n"
     ]
    }
   ],
   "source": [
    "from tensorflow.keras.models import Sequential\n",
    "from tensorflow.keras.layers import Dense, Dropout\n",
    "from tensorflow.keras.regularizers import l2 , l1\n",
    "from tensorflow.keras.callbacks import EarlyStopping , ModelCheckpoint , ReduceLROnPlateau\n",
    "model = Sequential()\n",
    "model.add(Dense(128, activation='relu', input_shape=(X_train.shape[1],), kernel_regularizer=l2(0.001)))\n",
    "\n",
    "model.add(Dropout(0.5))\n",
    "model.add(Dense(64, activation='relu', kernel_regularizer=l2(0.5)))\n",
    "model.add(Dropout(0.5))\n",
    "model.add(Dense(1, activation='sigmoid'))\n",
    "model.compile(optimizer='adam', loss='binary_crossentropy', metrics=['accuracy'])\n",
    "hist=model.fit(X_train, y_train, epochs=100, batch_size=32, validation_data=(X_test, y_test), callbacks=[\n",
    "    EarlyStopping(patience=5, restore_best_weights=True),\n",
    "    ModelCheckpoint('best_model.h5', save_best_only=True),\n",
    "    ReduceLROnPlateau(factor=0.2, patience=3)\n",
    "])"
   ]
  },
  {
   "cell_type": "markdown",
   "id": "959cac2c",
   "metadata": {},
   "source": [
    "### 6.2 Evaluation Metrics\n",
    "\n",
    "Evaluate the model performence"
   ]
  },
  {
   "cell_type": "code",
   "execution_count": 18,
   "id": "c0fb20c5",
   "metadata": {},
   "outputs": [
    {
     "name": "stdout",
     "output_type": "stream",
     "text": [
      "              precision    recall  f1-score   support\n",
      "\n",
      "           0       1.00      1.00      1.00      1000\n",
      "           1       1.00      1.00      1.00      1000\n",
      "\n",
      "    accuracy                           1.00      2000\n",
      "   macro avg       1.00      1.00      1.00      2000\n",
      "weighted avg       1.00      1.00      1.00      2000\n",
      "\n",
      "[[1000    0]\n",
      " [   0 1000]]\n"
     ]
    },
    {
     "data": {
      "image/png": "[encoded data removed]",
      "text/plain": [
       "<Figure size 640x480 with 1 Axes>"
      ]
     },
     "metadata": {},
     "output_type": "display_data"
    }
   ],
   "source": [
    "y_pred = model.predict(X_test)\n",
    "y_pred = (y_pred > 0.5).astype(int)\n",
    "# from sklearn.metrics import classification_report, confusion_matrix\n",
    "print(classification_report(y_test, y_pred))\n",
    "print(confusion_matrix(y_test, y_pred))\n",
    "import matplotlib.pyplot as plt\n",
    "plt.plot(hist.history['accuracy'], label='Train Accuracy')\n",
    "plt.plot(hist.history['val_accuracy'], label='Validation Accuracy')\n",
    "plt.title('Model Accuracy')\n",
    "plt.xlabel('Epochs')\n",
    "plt.ylabel('Accuracy')\n",
    "plt.legend()\n",
    "plt.show()"
   ]
  },
  {
   "cell_type": "code",
   "execution_count": 19,
   "id": "855a8e77",
   "metadata": {},
   "outputs": [
    {
     "name": "stdout",
     "output_type": "stream",
     "text": [
      "done\n"
     ]
    },
    {
     "data": {
      "text/plain": [
       "<matplotlib.legend.Legend at 0x29055d520d0>"
      ]
     },
     "execution_count": 19,
     "metadata": {},
     "output_type": "execute_result"
    },
    {
     "data": {
      "image/png": "[encoded data removed]",
      "text/plain": [
       "<Figure size 640x480 with 1 Axes>"
      ]
     },
     "metadata": {},
     "output_type": "display_data"
    }
   ],
   "source": [
    "\n",
    "from sklearn.metrics import roc_curve, auc\n",
    "y_pred=model.predict(X_test)\n",
    "# If y_pred is shape (n_samples, 1), flatten it\n",
    "if y_pred.ndim > 1:\n",
    "\tprint('done')\n",
    "\ty_pred_flat = y_pred.ravel()\n",
    "else:\n",
    "\ty_pred_flat = y_pred\n",
    "\n",
    "# If y_pred contains hard labels, get probabilities if possible\n",
    "# Here, we assume y_pred is already probabilities or binary labels\n",
    "fpr, tpr, thresholds = roc_curve(y_test, y_pred_flat)\n",
    "roc_auc = auc(fpr, tpr)\n",
    "plt.plot(fpr, tpr, label=f'ROC Curve (AUC = {roc_auc:.2f})')\n",
    "plt.title('ROC Curve')\n",
    "plt.xlabel('False Positive Rate')\n",
    "plt.ylabel('True Positive Rate')\n",
    "plt.legend()"
   ]
  },
  {
   "cell_type": "code",
   "execution_count": null,
   "id": "63b241f4",
   "metadata": {},
   "outputs": [],
   "source": [
    "def clean_text(text):\n",
    "    \"\"\"\n",
    "    Clean and preprocess text for consistent feature extraction.\n",
    "    \n",
    "    This function applies the same preprocessing steps used during training:\n",
    "    - Tokenization and lowercasing\n",
    "    - Stopword removal\n",
    "    - Lemmatization\n",
    "    - Alphabetic token filtering\n",
    "    \n",
    "    Args:\n",
    "        text (str): Raw input text\n",
    "        \n",
    "    Returns:\n",
    "        str: Cleaned and preprocessed text\n",
    "    \"\"\"\n",
    "    # Tokenize and convert to lowercase\n",
    "    tokens = word_tokenize(text.lower())\n",
    "    \n",
    "    # Filter and lemmatize tokens\n",
    "    filtered_tokens = [\n",
    "        lemmatizer.lemmatize(word) \n",
    "        for word in tokens \n",
    "        if word.isalpha() and word not in stop_words\n",
    "    ]\n",
    "    \n",
    "    return ' '.join(filtered_tokens)"
   ]
  },
  {
   "cell_type": "code",
   "execution_count": 24,
   "id": "a9a54bc6",
   "metadata": {},
   "outputs": [
    {
     "name": "stdout",
     "output_type": "stream",
     "text": [
      "Cleaned new sentence: hate hate everything petraed\n",
      "The predicted label for the new sentence is: negative\n"
     ]
    }
   ],
   "source": [
    "# from sentence_transformers import SentenceTransformer\n",
    "# from nltk.tokenize import sent_tokenize\n",
    "# model_sent = SentenceTransformer('all-mpnet-base-v2')  # Fast & good for Colab\n",
    "#test the model with a new sentence\n",
    "new_sentence = \"I hate you and hate everything about you, you petraed me\"\n",
    "new_sentence_cleaned = clean_text(new_sentence)\n",
    "print(f\"Cleaned new sentence: {new_sentence_cleaned}\")\n",
    "\n",
    "# Process the sentence with the same preprocessing as training\n",
    "sentences = sent_tokenize(new_sentence_cleaned)\n",
    "embeddings = model_sent.encode(sentences)\n",
    "embeddings_mean = np.mean(embeddings, axis=0)  # Average the embeddings of sentences\n",
    "embeddings_max = np.max(embeddings, axis=0)    # Max pooling of the embeddings\n",
    "new_sentence_embedding = np.concatenate((embeddings_mean, embeddings_max))  # Concatenate mean and max\n",
    "new_sentence_embedding = new_sentence_embedding.reshape(1, -1)  # Reshape for model input\n",
    "\n",
    "new_prediction = model.predict(new_sentence_embedding)\n",
    "new_prediction = (new_prediction > 0.5).astype(int)  # Convert to binary label\n",
    "new_pred='negative' if new_prediction[0][0] == 1 else 'positive'\n",
    "print(f\"The predicted label for the new sentence is: {new_pred}\")"
   ]
  }
 ],
 "metadata": {
  "kernelspec": {
   "display_name": "Python 3",
   "language": "python",
   "name": "python3"
  },
  "language_info": {
   "codemirror_mode": {
    "name": "ipython",
    "version": 3
   },
   "file_extension": ".py",
   "mimetype": "text/x-python",
   "name": "python",
   "nbconvert_exporter": "python",
   "pygments_lexer": "ipython3",
   "version": "3.9.13"
  }
 },
 "nbformat": 4,
 "nbformat_minor": 5
}
